{
  "nbformat": 4,
  "nbformat_minor": 0,
  "metadata": {
    "colab": {
      "provenance": [],
      "authorship_tag": "ABX9TyM1ut6tJ2RvgDcS5y02rTPc",
      "include_colab_link": true
    },
    "kernelspec": {
      "name": "python3",
      "display_name": "Python 3"
    },
    "language_info": {
      "name": "python"
    }
  },
  "cells": [
    {
      "cell_type": "markdown",
      "metadata": {
        "id": "view-in-github",
        "colab_type": "text"
      },
      "source": [
        "<a href=\"https://colab.research.google.com/github/i9muslimbek/AI-APPLICATION/blob/main/Muslimjon_12194836(weak_9_2).ipynb\" target=\"_parent\"><img src=\"https://colab.research.google.com/assets/colab-badge.svg\" alt=\"Open In Colab\"/></a>"
      ]
    },
    {
      "cell_type": "code",
      "execution_count": 1,
      "metadata": {
        "colab": {
          "base_uri": "https://localhost:8080/",
          "height": 130
        },
        "id": "qZPrC1e_vPsK",
        "outputId": "a57bc0c5-18eb-4392-f56a-de1107c99af5"
      },
      "outputs": [
        {
          "output_type": "error",
          "ename": "SyntaxError",
          "evalue": "ignored",
          "traceback": [
            "\u001b[0;36m  File \u001b[0;32m\"<ipython-input-1-f944c3966663>\"\u001b[0;36m, line \u001b[0;32m23\u001b[0m\n\u001b[0;31m    x_train =(raw_x_train — x_mean) / x_stddev\u001b[0m\n\u001b[0m                          ^\u001b[0m\n\u001b[0;31mSyntaxError\u001b[0m\u001b[0;31m:\u001b[0m invalid character in identifier\n"
          ]
        }
      ],
      "source": [
        "import tensorflow as tf\n",
        "\n",
        "from tensorflow import keras\n",
        "\n",
        "from tensorflow.keras.models import Sequential\n",
        "from tensorflow.keras. layers import Dense\n",
        "from tensorflow.keras.layers import Dropout\n",
        "\n",
        "import numpy as np\n",
        "import logging\n",
        "tf.get_logger ().setLevel (logging. ERROR)\n",
        "\n",
        "EPOCHS = 500\n",
        "BATCH_SIZE = 16\n",
        "\n",
        "# Read and standardize the data.\n",
        "boston_housing = keras.datasets.boston_housing\n",
        "(raw_x_train, y_train), (raw_x_test,\n",
        "\n",
        "y_test) = boston_housing. load_data()\n",
        "X_mean = np.mean(raw_x_train, axis=0)\n",
        "x_stddev = np.std(raw_x_train, axis=0)\n",
        "x_train =(raw_x_train — x_mean) / x_stddev\n",
        "x_test =(raw_x_test - x_mean) / x_stddev\n"
      ]
    },
    {
      "cell_type": "code",
      "source": [
        "# Create and train model.\n",
        "\n",
        "model = Sequential ()\n",
        "\n",
        "model .add(Dense(128, activation='relu', input_shape=[13] ))\n",
        "model .add(Dropout(0.3))\n",
        "model .add(Dense(128, activation='relu'))\n",
        "model .add(Dropout(0.3))\n",
        "model .add(Dense(64, activation='relu'))\n",
        "model .add(Dropout(0.3))\n",
        "model .add(Dense(1, activation='|inear'))\n",
        "model .compile(loss='mean_squared_error', optimizer='adam' ,\n",
        "                metrics =['mean_absolute_error'])\n",
        "\n",
        "model .summary()\n",
        "history = model .fit(x_train, y_train, validation_data=(\n",
        "    x_test, y_test), epochs=EPOCHS, batch_size=BATCH_SIZE,\n",
        "    verbose=2, shuffle=True)\n",
        "\n",
        "# Print first 4 predictions.\n",
        "predictions = model .predict(x_test)\n",
        "for i in range(O, 4):\n",
        "  print('Prediction: ', predictions[i, 0],\n",
        "        '. true value: ', y_test[i])"
      ],
      "metadata": {
        "colab": {
          "base_uri": "https://localhost:8080/",
          "height": 235
        },
        "id": "w35bvu8UwSwa",
        "outputId": "e2d8931b-b873-467e-ed87-73a3b0c0d2a5"
      },
      "execution_count": 7,
      "outputs": [
        {
          "output_type": "error",
          "ename": "NameError",
          "evalue": "ignored",
          "traceback": [
            "\u001b[0;31m---------------------------------------------------------------------------\u001b[0m",
            "\u001b[0;31mNameError\u001b[0m                                 Traceback (most recent call last)",
            "\u001b[0;32m<ipython-input-7-e25dc76e63f1>\u001b[0m in \u001b[0;36m<module>\u001b[0;34m\u001b[0m\n\u001b[1;32m      1\u001b[0m \u001b[0;31m# Create and train model.\u001b[0m\u001b[0;34m\u001b[0m\u001b[0;34m\u001b[0m\u001b[0;34m\u001b[0m\u001b[0m\n\u001b[1;32m      2\u001b[0m \u001b[0;34m\u001b[0m\u001b[0m\n\u001b[0;32m----> 3\u001b[0;31m \u001b[0mmodel\u001b[0m \u001b[0;34m=\u001b[0m \u001b[0mSequential\u001b[0m \u001b[0;34m(\u001b[0m\u001b[0;34m)\u001b[0m\u001b[0;34m\u001b[0m\u001b[0;34m\u001b[0m\u001b[0m\n\u001b[0m\u001b[1;32m      4\u001b[0m \u001b[0;34m\u001b[0m\u001b[0m\n\u001b[1;32m      5\u001b[0m \u001b[0mmodel\u001b[0m \u001b[0;34m.\u001b[0m\u001b[0madd\u001b[0m\u001b[0;34m(\u001b[0m\u001b[0mDense\u001b[0m\u001b[0;34m(\u001b[0m\u001b[0;36m128\u001b[0m\u001b[0;34m,\u001b[0m \u001b[0mactivation\u001b[0m\u001b[0;34m=\u001b[0m\u001b[0;34m'relu'\u001b[0m\u001b[0;34m,\u001b[0m \u001b[0minput_shape\u001b[0m\u001b[0;34m=\u001b[0m\u001b[0;34m[\u001b[0m\u001b[0;36m13\u001b[0m\u001b[0;34m]\u001b[0m \u001b[0;34m)\u001b[0m\u001b[0;34m)\u001b[0m\u001b[0;34m\u001b[0m\u001b[0;34m\u001b[0m\u001b[0m\n",
            "\u001b[0;31mNameError\u001b[0m: name 'Sequential' is not defined"
          ]
        }
      ]
    }
  ]
}